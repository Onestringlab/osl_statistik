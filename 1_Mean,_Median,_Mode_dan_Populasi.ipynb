{
  "nbformat": 4,
  "nbformat_minor": 0,
  "metadata": {
    "colab": {
      "provenance": [],
      "authorship_tag": "ABX9TyNrgiFd1HQxEAON/qFF8xfb",
      "include_colab_link": true
    },
    "kernelspec": {
      "name": "python3",
      "display_name": "Python 3"
    },
    "language_info": {
      "name": "python"
    }
  },
  "cells": [
    {
      "cell_type": "markdown",
      "metadata": {
        "id": "view-in-github",
        "colab_type": "text"
      },
      "source": [
        "<a href=\"https://colab.research.google.com/github/Onestringlab/osl_statistik/blob/main/1_Mean%2C_Median%2C_Mode_dan_Populasi.ipynb\" target=\"_parent\"><img src=\"https://colab.research.google.com/assets/colab-badge.svg\" alt=\"Open In Colab\"/></a>"
      ]
    },
    {
      "cell_type": "markdown",
      "metadata": {
        "id": "h9tgrlY1e3Te"
      },
      "source": [
        "**import library numpy**"
      ]
    },
    {
      "cell_type": "code",
      "metadata": {
        "id": "CHI1OKkOerfs"
      },
      "source": [
        "import numpy as np\n",
        "import matplotlib.pyplot as plt"
      ],
      "execution_count": 1,
      "outputs": []
    },
    {
      "cell_type": "markdown",
      "metadata": {
        "id": "Xp4zy2i9fLb2"
      },
      "source": [
        "**Membuat data**"
      ]
    },
    {
      "cell_type": "code",
      "metadata": {
        "colab": {
          "base_uri": "https://localhost:8080/"
        },
        "id": "3e9S5vu8fRC6",
        "outputId": "804cd267-de50-4f07-b9f7-6c7b98c37529"
      },
      "source": [
        "# angka dari 7 - 10 sebanyak 20 buah\n",
        "data = np.random.randint(7,10,20)\n",
        "data"
      ],
      "execution_count": 2,
      "outputs": [
        {
          "output_type": "execute_result",
          "data": {
            "text/plain": [
              "array([8, 8, 9, 8, 9, 7, 8, 7, 7, 9, 9, 7, 9, 7, 8, 7, 8, 9, 7, 8])"
            ]
          },
          "metadata": {},
          "execution_count": 2
        }
      ]
    },
    {
      "cell_type": "markdown",
      "metadata": {
        "id": "Hy6BbA3yfulB"
      },
      "source": [
        "**Mean** adalah nilai rata-rata dari sebuah data.\n",
        "$$\\bar{X} = \\frac{\\sum_{}{}X_i} n$$\n",
        "\n",
        "dimana X = data observasi; n = jumlah observasi\n"
      ]
    },
    {
      "cell_type": "code",
      "metadata": {
        "colab": {
          "base_uri": "https://localhost:8080/"
        },
        "id": "fFAkciHsgckY",
        "outputId": "a956dae2-a94c-4e9c-8bae-f445e485d1a6"
      },
      "source": [
        "# mean atau rata-rata\n",
        "np.mean(data)"
      ],
      "execution_count": 3,
      "outputs": [
        {
          "output_type": "execute_result",
          "data": {
            "text/plain": [
              "7.95"
            ]
          },
          "metadata": {},
          "execution_count": 3
        }
      ]
    },
    {
      "cell_type": "markdown",
      "metadata": {
        "id": "vAXjX4MOXd_a"
      },
      "source": []
    },
    {
      "cell_type": "markdown",
      "metadata": {
        "id": "E2SAThZMiPTS"
      },
      "source": [
        "**Median** adalah nilai tengah dari data ketika data tersebut telah diurutkan."
      ]
    },
    {
      "cell_type": "code",
      "metadata": {
        "colab": {
          "base_uri": "https://localhost:8080/"
        },
        "id": "fI4IgooCi8q3",
        "outputId": "bce2ee91-4c64-4b6e-994f-32fce792f4e6"
      },
      "source": [
        "data = np.sort(data)\n",
        "print(data)\n",
        "np.median(data)"
      ],
      "execution_count": 4,
      "outputs": [
        {
          "output_type": "stream",
          "name": "stdout",
          "text": [
            "[7 7 7 7 7 7 7 8 8 8 8 8 8 8 9 9 9 9 9 9]\n"
          ]
        },
        {
          "output_type": "execute_result",
          "data": {
            "text/plain": [
              "8.0"
            ]
          },
          "metadata": {},
          "execution_count": 4
        }
      ]
    },
    {
      "cell_type": "markdown",
      "metadata": {
        "id": "n8ZzWjg7jZTp"
      },
      "source": [
        "**Mode** adalah nilai yang paling sering muncul dalam suatu data."
      ]
    },
    {
      "cell_type": "code",
      "metadata": {
        "colab": {
          "base_uri": "https://localhost:8080/"
        },
        "id": "QBnqUxd3j5Tg",
        "outputId": "888f1265-7d0a-4317-de74-84b9529002ee"
      },
      "source": [
        "# Nilai mode dicari dengan fungsi mode\n",
        "import statistics\n",
        "mode = statistics.mode(data)\n",
        "mode"
      ],
      "execution_count": 5,
      "outputs": [
        {
          "output_type": "execute_result",
          "data": {
            "text/plain": [
              "7"
            ]
          },
          "metadata": {},
          "execution_count": 5
        }
      ]
    },
    {
      "cell_type": "markdown",
      "metadata": {
        "id": "hLSKp5gnkfNY"
      },
      "source": [
        "**Populasi dan Sampel**<br>\n",
        "Populasi merupakan keseluruhan dari data yang ada.<br>\n",
        "Sampel merupakan sebagian dari populasi."
      ]
    },
    {
      "cell_type": "code",
      "metadata": {
        "colab": {
          "base_uri": "https://localhost:8080/"
        },
        "id": "4sa-dhwgk4DG",
        "outputId": "1e8f100f-4e6a-46df-b242-c95522200088"
      },
      "source": [
        "# populasi data angka dari 1 sampai 9 sebanyak 100 buah\n",
        "populasi = np.random.randint(1,10,100)\n",
        "populasi"
      ],
      "execution_count": 6,
      "outputs": [
        {
          "output_type": "execute_result",
          "data": {
            "text/plain": [
              "array([3, 1, 8, 6, 6, 1, 5, 7, 7, 7, 6, 8, 2, 7, 8, 1, 4, 9, 5, 7, 8, 3,\n",
              "       7, 6, 4, 7, 1, 3, 2, 1, 9, 5, 2, 2, 6, 8, 6, 4, 2, 4, 5, 1, 5, 6,\n",
              "       2, 3, 7, 6, 8, 5, 6, 2, 2, 2, 9, 7, 4, 2, 9, 1, 5, 9, 2, 7, 9, 9,\n",
              "       7, 6, 9, 2, 2, 3, 7, 9, 3, 8, 7, 3, 1, 1, 5, 3, 2, 7, 4, 1, 3, 3,\n",
              "       6, 3, 6, 7, 9, 5, 1, 3, 5, 9, 4, 6])"
            ]
          },
          "metadata": {},
          "execution_count": 6
        }
      ]
    },
    {
      "cell_type": "code",
      "metadata": {
        "colab": {
          "base_uri": "https://localhost:8080/"
        },
        "id": "oowJ2v9Hlhr0",
        "outputId": "385a2811-b7c8-456e-9577-c95fce603c34"
      },
      "source": [
        "\n",
        "print(\"Mean :\",np.mean(populasi))\n",
        "print(\"Median :\",np.median(populasi))\n",
        "print(\"Mode :\",statistics.mode(populasi))"
      ],
      "execution_count": 7,
      "outputs": [
        {
          "output_type": "stream",
          "name": "stdout",
          "text": [
            "Mean : 4.91\n",
            "Median : 5.0\n",
            "Mode : 7\n"
          ]
        }
      ]
    },
    {
      "cell_type": "markdown",
      "metadata": {
        "id": "UTZttgcOmQeL"
      },
      "source": [
        "**Mengambil sampel dari populasi**"
      ]
    },
    {
      "cell_type": "code",
      "metadata": {
        "colab": {
          "base_uri": "https://localhost:8080/"
        },
        "id": "xm5IzqJnmPN-",
        "outputId": "7f51d118-3ac1-47e3-950d-88bd3bd566da"
      },
      "source": [
        "sampel = np.random.choice(populasi, 20)\n",
        "sampel"
      ],
      "execution_count": 8,
      "outputs": [
        {
          "output_type": "execute_result",
          "data": {
            "text/plain": [
              "array([8, 1, 2, 2, 2, 9, 1, 1, 1, 7, 7, 2, 5, 9, 9, 1, 8, 3, 7, 9])"
            ]
          },
          "metadata": {},
          "execution_count": 8
        }
      ]
    },
    {
      "cell_type": "code",
      "metadata": {
        "colab": {
          "base_uri": "https://localhost:8080/"
        },
        "id": "tkHUqp4Nmd9L",
        "outputId": "13bf0d6e-c54b-434b-e79d-f9b7f635530b"
      },
      "source": [
        "print(\"Mean :\",np.mean(sampel))\n",
        "print(\"Median :\",np.median(sampel))\n",
        "print(\"Mode :\",statistics.mode(sampel))"
      ],
      "execution_count": 9,
      "outputs": [
        {
          "output_type": "stream",
          "name": "stdout",
          "text": [
            "Mean : 4.7\n",
            "Median : 4.0\n",
            "Mode : 1\n"
          ]
        }
      ]
    },
    {
      "cell_type": "markdown",
      "metadata": {
        "id": "0BPN5pgFmpcM"
      },
      "source": [
        "**Mengambil sampel beberapa kali dari populasi**"
      ]
    },
    {
      "cell_type": "code",
      "metadata": {
        "id": "Joyz08PLmwBn"
      },
      "source": [
        "sampel_1 = np.random.choice(populasi, 15)\n",
        "sampel_2 = np.random.choice(populasi, 15)\n",
        "sampel_3 = np.random.choice(populasi, 15)\n",
        "sampel_4 = np.random.choice(populasi, 15)"
      ],
      "execution_count": 10,
      "outputs": []
    },
    {
      "cell_type": "code",
      "metadata": {
        "colab": {
          "base_uri": "https://localhost:8080/"
        },
        "id": "66tq3xuWm5Ux",
        "outputId": "3dfab7ff-397b-42c9-8673-5e457b78f1f4"
      },
      "source": [
        "# memuat sampel-sampel ke dalam list\n",
        "data_sampel = [sampel_1, sampel_2, sampel_3, sampel_4]\n",
        "mean_sampel = []\n",
        "\n",
        "for x in data_sampel:\n",
        "  mean_sampel.append(np.mean(x))\n",
        "\n",
        "mean_sampel"
      ],
      "execution_count": 11,
      "outputs": [
        {
          "output_type": "execute_result",
          "data": {
            "text/plain": [
              "[5.2, 4.4, 3.6666666666666665, 4.733333333333333]"
            ]
          },
          "metadata": {},
          "execution_count": 11
        }
      ]
    },
    {
      "cell_type": "code",
      "metadata": {
        "colab": {
          "base_uri": "https://localhost:8080/"
        },
        "id": "Y_f_f-oDnrIB",
        "outputId": "e316d743-15db-4286-fd93-8c2062f2c405"
      },
      "source": [
        "print(\"Mean dari sample\", np.mean(mean_sampel))"
      ],
      "execution_count": 12,
      "outputs": [
        {
          "output_type": "stream",
          "name": "stdout",
          "text": [
            "Mean dari sample 4.5\n"
          ]
        }
      ]
    },
    {
      "cell_type": "code",
      "metadata": {
        "colab": {
          "base_uri": "https://localhost:8080/"
        },
        "id": "AulsSoaKnttV",
        "outputId": "420140fa-6a70-4730-ca4f-2a7f9e82734f"
      },
      "source": [
        "print(\"Mean dari populasi\", np.mean(populasi))"
      ],
      "execution_count": 13,
      "outputs": [
        {
          "output_type": "stream",
          "name": "stdout",
          "text": [
            "Mean dari populasi 4.91\n"
          ]
        }
      ]
    },
    {
      "cell_type": "markdown",
      "metadata": {
        "id": "xCMhyw-nn4DG"
      },
      "source": [
        "**Terlihat mean populasi tidak jauh berbeda dari mean sampel**"
      ]
    }
  ]
}