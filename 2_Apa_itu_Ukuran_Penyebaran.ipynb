{
  "nbformat": 4,
  "nbformat_minor": 0,
  "metadata": {
    "colab": {
      "provenance": [],
      "authorship_tag": "ABX9TyNDsxSTHkZq32Um4n04FuVw",
      "include_colab_link": true
    },
    "kernelspec": {
      "name": "python3",
      "display_name": "Python 3"
    },
    "language_info": {
      "name": "python"
    }
  },
  "cells": [
    {
      "cell_type": "markdown",
      "metadata": {
        "id": "view-in-github",
        "colab_type": "text"
      },
      "source": [
        "<a href=\"https://colab.research.google.com/github/Onestringlab/osl_statistik/blob/main/2_Apa_itu_Ukuran_Penyebaran.ipynb\" target=\"_parent\"><img src=\"https://colab.research.google.com/assets/colab-badge.svg\" alt=\"Open In Colab\"/></a>"
      ]
    },
    {
      "cell_type": "markdown",
      "metadata": {
        "id": "gXJZ0Acf8xFM"
      },
      "source": [
        "**import library numpy**"
      ]
    },
    {
      "cell_type": "code",
      "metadata": {
        "id": "-CFgCVUY8hIl"
      },
      "source": [
        "import numpy as np"
      ],
      "execution_count": 1,
      "outputs": []
    },
    {
      "cell_type": "markdown",
      "metadata": {
        "id": "JRxcW0II9Eci"
      },
      "source": [
        "**Membuat Data**"
      ]
    },
    {
      "cell_type": "code",
      "metadata": {
        "colab": {
          "base_uri": "https://localhost:8080/"
        },
        "id": "eySrgfRM9D1O",
        "outputId": "f14bb5fc-579a-4f54-ce3d-419d73486a00"
      },
      "source": [
        "# generate 30 data bilangan real\n",
        "data = np.random.randn(30)\n",
        "data"
      ],
      "execution_count": 2,
      "outputs": [
        {
          "output_type": "execute_result",
          "data": {
            "text/plain": [
              "array([-0.20181808,  0.56644081, -0.5385213 ,  0.95774588,  0.97635735,\n",
              "       -1.0941052 ,  0.93006759,  0.4492942 ,  0.19985695,  0.66997106,\n",
              "        0.14827642,  1.2728451 , -0.11812149,  0.60403548, -0.40400818,\n",
              "        0.62219441,  0.46435442,  0.27383479, -0.89920297, -0.05828149,\n",
              "        0.74119153, -0.55061788, -0.68031783,  1.54683908, -1.66209298,\n",
              "        1.20524697,  0.32575178, -0.07868015,  0.53524161, -0.01932291])"
            ]
          },
          "metadata": {},
          "execution_count": 2
        }
      ]
    },
    {
      "cell_type": "code",
      "metadata": {
        "colab": {
          "base_uri": "https://localhost:8080/"
        },
        "id": "BEd0jgtx_01j",
        "outputId": "d6708a46-ae89-476f-935f-ae60e0a1b1a9"
      },
      "source": [
        "# mengurutkan data\n",
        "data = np.sort(data)\n",
        "data"
      ],
      "execution_count": 3,
      "outputs": [
        {
          "output_type": "execute_result",
          "data": {
            "text/plain": [
              "array([-1.66209298, -1.0941052 , -0.89920297, -0.68031783, -0.55061788,\n",
              "       -0.5385213 , -0.40400818, -0.20181808, -0.11812149, -0.07868015,\n",
              "       -0.05828149, -0.01932291,  0.14827642,  0.19985695,  0.27383479,\n",
              "        0.32575178,  0.4492942 ,  0.46435442,  0.53524161,  0.56644081,\n",
              "        0.60403548,  0.62219441,  0.66997106,  0.74119153,  0.93006759,\n",
              "        0.95774588,  0.97635735,  1.20524697,  1.2728451 ,  1.54683908])"
            ]
          },
          "metadata": {},
          "execution_count": 3
        }
      ]
    },
    {
      "cell_type": "markdown",
      "metadata": {
        "id": "JYXR9d9FROV_"
      },
      "source": [
        "**1. Range**<br>\n",
        "Menghitung selisih antara data terbesar dan data terkecil\n",
        "$$range = max(data) - min(data)$$"
      ]
    },
    {
      "cell_type": "code",
      "metadata": {
        "colab": {
          "base_uri": "https://localhost:8080/"
        },
        "id": "7Sg6qWlV-PeJ",
        "outputId": "1c9445c3-b03a-4d7f-82d2-5f6c68f6a2d3"
      },
      "source": [
        "# menghitung range\n",
        "np.max(data) - np.min(data)"
      ],
      "execution_count": 4,
      "outputs": [
        {
          "output_type": "execute_result",
          "data": {
            "text/plain": [
              "3.2089320572772344"
            ]
          },
          "metadata": {},
          "execution_count": 4
        }
      ]
    },
    {
      "cell_type": "markdown",
      "metadata": {
        "id": "vNaBOq6Y-rG_"
      },
      "source": [
        "**2. Quartile** <br>\n",
        "Quartile membagi urutan-urutan data menjadi 4 bagian yang sama"
      ]
    },
    {
      "cell_type": "code",
      "metadata": {
        "colab": {
          "base_uri": "https://localhost:8080/"
        },
        "id": "KHVBbVu5_B28",
        "outputId": "f8cda8f7-773d-48f3-fee6-29f905c3a808"
      },
      "source": [
        "# Quartile Pertama\n",
        "Q1 = np.percentile(data,25)\n",
        "Q1"
      ],
      "execution_count": 5,
      "outputs": [
        {
          "output_type": "execute_result",
          "data": {
            "text/plain": [
              "-0.18089393017739763"
            ]
          },
          "metadata": {},
          "execution_count": 5
        }
      ]
    },
    {
      "cell_type": "code",
      "metadata": {
        "colab": {
          "base_uri": "https://localhost:8080/"
        },
        "id": "yF0D5i7j_et2",
        "outputId": "a4c9ad4f-6f94-468c-96a8-92b95bb95172"
      },
      "source": [
        "# Quartile Kedua\n",
        "Q2 = np.percentile(data,50)\n",
        "Q2"
      ],
      "execution_count": 6,
      "outputs": [
        {
          "output_type": "execute_result",
          "data": {
            "text/plain": [
              "0.2997932878575289"
            ]
          },
          "metadata": {},
          "execution_count": 6
        }
      ]
    },
    {
      "cell_type": "code",
      "metadata": {
        "colab": {
          "base_uri": "https://localhost:8080/"
        },
        "id": "k617TuFq_poG",
        "outputId": "01711364-30b4-415d-e76f-0d229b503bba"
      },
      "source": [
        "# Quartile Ketiga\n",
        "Q3 = np.percentile(data,75)\n",
        "Q3"
      ],
      "execution_count": 7,
      "outputs": [
        {
          "output_type": "execute_result",
          "data": {
            "text/plain": [
              "0.6580268993082843"
            ]
          },
          "metadata": {},
          "execution_count": 7
        }
      ]
    },
    {
      "cell_type": "markdown",
      "metadata": {
        "id": "GpYx1Mc6AAqG"
      },
      "source": [
        "**Interquatile Range**\n",
        "$$IQR = Q_3 - Q_1$$"
      ]
    },
    {
      "cell_type": "code",
      "metadata": {
        "colab": {
          "base_uri": "https://localhost:8080/"
        },
        "id": "CIsgN69U_wbl",
        "outputId": "eb2d1af4-1033-4f67-b07a-2edb8dc7ada1"
      },
      "source": [
        "IQR = Q3 - Q1\n",
        "IQR"
      ],
      "execution_count": 8,
      "outputs": [
        {
          "output_type": "execute_result",
          "data": {
            "text/plain": [
              "0.8389208294856819"
            ]
          },
          "metadata": {},
          "execution_count": 8
        }
      ]
    },
    {
      "cell_type": "markdown",
      "metadata": {
        "id": "erGveg3AAUUh"
      },
      "source": [
        "**3. Variance**<br>\n",
        "Menunjukkan sejauh mana data tersebar dari rata-rata<br>\n",
        "Rumus Variance untuk populasi\n",
        "$$\\sigma^2 = \\frac{\\displaystyle\\sum_{i=1}^{n}(x_i - \\mu)^2} {n}$$\n",
        "\n",
        "Rumus Variance untuk sampel\n",
        "$$S^2 = \\frac{\\displaystyle\\sum_{i=1}^{n}(x_i - \\mu)^2} {n}$$"
      ]
    },
    {
      "cell_type": "code",
      "metadata": {
        "colab": {
          "base_uri": "https://localhost:8080/"
        },
        "id": "v8X4NMFaAjqD",
        "outputId": "e5da419b-70dc-4109-ec86-68966b01e880"
      },
      "source": [
        "# generate 100 data bilangan real\n",
        "populasi = np.random.randn(100)\n",
        "\n",
        "# mengurutkan data\n",
        "populasi = np.sort(populasi)\n",
        "\n",
        "populasi"
      ],
      "execution_count": 9,
      "outputs": [
        {
          "output_type": "execute_result",
          "data": {
            "text/plain": [
              "array([-2.53211626e+00, -1.98230935e+00, -1.56840010e+00, -1.50407864e+00,\n",
              "       -1.43215884e+00, -1.36079405e+00, -1.31673459e+00, -1.26141567e+00,\n",
              "       -1.06062988e+00, -1.06062771e+00, -9.78396710e-01, -9.77292420e-01,\n",
              "       -9.64091140e-01, -9.48780367e-01, -9.24499652e-01, -9.04653064e-01,\n",
              "       -8.56245634e-01, -7.67055257e-01, -7.30042060e-01, -7.01571723e-01,\n",
              "       -6.95768924e-01, -6.94302445e-01, -6.94119909e-01, -6.45289676e-01,\n",
              "       -6.22733420e-01, -6.01237917e-01, -5.95411061e-01, -5.87801735e-01,\n",
              "       -5.86108748e-01, -5.73332169e-01, -5.40135774e-01, -4.63402257e-01,\n",
              "       -4.46188339e-01, -4.21859375e-01, -3.57440395e-01, -3.32591025e-01,\n",
              "       -3.30816966e-01, -3.11657057e-01, -2.83051890e-01, -2.79316128e-01,\n",
              "       -2.69953269e-01, -2.38457920e-01, -2.09225580e-01, -1.79321574e-01,\n",
              "       -1.65357898e-01, -1.65034083e-01, -1.61820912e-01, -1.55502134e-01,\n",
              "       -7.32946941e-02, -4.87252346e-02, -4.65713333e-02, -2.78876738e-02,\n",
              "       -5.62504973e-04,  1.55312885e-03,  1.61204312e-03,  1.12644357e-02,\n",
              "        5.85513500e-02,  6.71316417e-02,  9.41455675e-02,  9.57520488e-02,\n",
              "        1.28188529e-01,  1.57180103e-01,  2.25363633e-01,  3.30052735e-01,\n",
              "        3.78691235e-01,  3.80828982e-01,  4.27167209e-01,  4.34420849e-01,\n",
              "        4.46889945e-01,  4.71867190e-01,  5.00382295e-01,  5.01100163e-01,\n",
              "        5.68993168e-01,  5.92910356e-01,  5.99786642e-01,  6.05940466e-01,\n",
              "        6.23246039e-01,  6.25202110e-01,  6.85139416e-01,  6.92884674e-01,\n",
              "        7.56749547e-01,  8.42005769e-01,  8.74988284e-01,  9.05711220e-01,\n",
              "        9.15043533e-01,  9.33772173e-01,  9.71122009e-01,  9.92562992e-01,\n",
              "        1.02604635e+00,  1.04729636e+00,  1.06295994e+00,  1.11294042e+00,\n",
              "        1.20282996e+00,  1.21598137e+00,  1.32093338e+00,  1.35358198e+00,\n",
              "        1.37846837e+00,  1.42845490e+00,  1.58786941e+00,  1.74833911e+00])"
            ]
          },
          "metadata": {},
          "execution_count": 9
        }
      ]
    },
    {
      "cell_type": "code",
      "metadata": {
        "colab": {
          "base_uri": "https://localhost:8080/"
        },
        "id": "AC8PScB2CRq4",
        "outputId": "c26a4c4e-a234-4ce9-dbc0-506b0a207b6f"
      },
      "source": [
        "# generate 100 data bilangan real\n",
        "sampel = np.random.choice(populasi, 20)\n",
        "\n",
        "# mengurutkan data\n",
        "sampel = np.sort(sampel)\n",
        "\n",
        "sampel"
      ],
      "execution_count": 10,
      "outputs": [
        {
          "output_type": "execute_result",
          "data": {
            "text/plain": [
              "array([-1.31673459e+00, -9.78396710e-01, -9.64091140e-01, -7.67055257e-01,\n",
              "       -5.95411061e-01, -4.46188339e-01, -4.46188339e-01, -3.32591025e-01,\n",
              "       -3.32591025e-01, -2.38457920e-01, -2.09225580e-01, -1.55502134e-01,\n",
              "       -5.62504973e-04,  3.30052735e-01,  4.46889945e-01,  5.01100163e-01,\n",
              "        6.05940466e-01,  7.56749547e-01,  9.92562992e-01,  1.06295994e+00])"
            ]
          },
          "metadata": {},
          "execution_count": 10
        }
      ]
    },
    {
      "cell_type": "markdown",
      "metadata": {
        "id": "0XUk6tpUCwB1"
      },
      "source": [
        "**Menghitung Variance**"
      ]
    },
    {
      "cell_type": "code",
      "metadata": {
        "colab": {
          "base_uri": "https://localhost:8080/"
        },
        "id": "uJT1V6tbCuLH",
        "outputId": "4d7bdabb-0693-4f3e-ea4d-910f0f60e65a"
      },
      "source": [
        "np.var(populasi)"
      ],
      "execution_count": 11,
      "outputs": [
        {
          "output_type": "execute_result",
          "data": {
            "text/plain": [
              "0.6997660157012142"
            ]
          },
          "metadata": {},
          "execution_count": 11
        }
      ]
    },
    {
      "cell_type": "code",
      "metadata": {
        "colab": {
          "base_uri": "https://localhost:8080/"
        },
        "id": "L-pkGc4IC3Xz",
        "outputId": "3238bb6a-7986-407c-e186-ed3b98869d7d"
      },
      "source": [
        "np.var(sampel)"
      ],
      "execution_count": 12,
      "outputs": [
        {
          "output_type": "execute_result",
          "data": {
            "text/plain": [
              "0.43522759137818684"
            ]
          },
          "metadata": {},
          "execution_count": 12
        }
      ]
    },
    {
      "cell_type": "markdown",
      "metadata": {
        "id": "CUI4DCOjDPT_"
      },
      "source": [
        "**4. Standar Deviasi**<br>\n",
        "Standar Deviasi adalah akar dari variance<br>\n",
        "Rumus standar deviasi untuk populasi\n",
        "\n",
        "$$\\sigma =\\sqrt{\\frac{\\displaystyle\\sum_{i=1}^{n}(x_i - \\mu)^2} {n}}$$\n",
        "\n",
        "Rumus standar deviasi untuk sampel\n",
        "$$S =\\sqrt{\\frac{\\displaystyle\\sum_{i=1}^{n}(x_i - \\mu)^2} {n}}$$\n"
      ]
    },
    {
      "cell_type": "markdown",
      "metadata": {
        "id": "ZdbRACj6EHsk"
      },
      "source": [
        "**Menghitung Standar Deviasi**\n"
      ]
    },
    {
      "cell_type": "code",
      "metadata": {
        "colab": {
          "base_uri": "https://localhost:8080/"
        },
        "id": "cYP7rbceDN6i",
        "outputId": "093972c8-fa24-4da0-e157-7e95091e45c9"
      },
      "source": [
        "np.std(populasi)\n"
      ],
      "execution_count": 13,
      "outputs": [
        {
          "output_type": "execute_result",
          "data": {
            "text/plain": [
              "0.836520182482894"
            ]
          },
          "metadata": {},
          "execution_count": 13
        }
      ]
    },
    {
      "cell_type": "code",
      "metadata": {
        "colab": {
          "base_uri": "https://localhost:8080/"
        },
        "id": "FVKXni-yEbU4",
        "outputId": "0678135d-e9c3-4170-d4e4-c2fa6cabdb0f"
      },
      "source": [
        "np.std(sampel)"
      ],
      "execution_count": 14,
      "outputs": [
        {
          "output_type": "execute_result",
          "data": {
            "text/plain": [
              "0.6597178119303638"
            ]
          },
          "metadata": {},
          "execution_count": 14
        }
      ]
    }
  ]
}